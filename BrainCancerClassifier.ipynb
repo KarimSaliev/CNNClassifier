{
 "cells": [
  {
   "cell_type": "code",
   "execution_count": 1,
   "metadata": {
    "id": "9dgrThKi-WZF"
   },
   "outputs": [
    {
     "name": "stderr",
     "output_type": "stream",
     "text": [
      "2024-07-02 21:55:11.758494: I tensorflow/core/platform/cpu_feature_guard.cc:210] This TensorFlow binary is optimized to use available CPU instructions in performance-critical operations.\n",
      "To enable the following instructions: AVX2 FMA, in other operations, rebuild TensorFlow with the appropriate compiler flags.\n"
     ]
    }
   ],
   "source": [
    "import tkinter as tk\n",
    "from tkinter import filedialog, messagebox, ttk\n",
    "from PIL import ImageTk, Image\n",
    "from skimage.io import imread\n",
    "from skimage.transform import resize\n",
    "import numpy as np\n",
    "from tensorflow.keras.models import load_model\n",
    "import tensorflow as tf"
   ]
  },
  {
   "cell_type": "code",
   "execution_count": 2,
   "metadata": {
    "id": "vv95jiwe_Dla"
   },
   "outputs": [
    {
     "name": "stderr",
     "output_type": "stream",
     "text": [
      "/opt/anaconda3/lib/python3.11/site-packages/keras/src/layers/convolutional/base_conv.py:107: UserWarning: Do not pass an `input_shape`/`input_dim` argument to a layer. When using Sequential models, prefer using an `Input(shape)` object as the first layer in the model instead.\n",
      "  super().__init__(activity_regularizer=activity_regularizer, **kwargs)\n",
      "WARNING:absl:Compiled the loaded model, but the compiled metrics have yet to be built. `model.compile_metrics` will be empty until you train or evaluate the model.\n",
      "WARNING:absl:Error in loading the saved optimizer state. As a result, your model is starting with a freshly initialized optimizer.\n"
     ]
    }
   ],
   "source": [
    "model = load_model('model2.h5') # model extension changed to .h5 due to conflicts with .keras"
   ]
  },
  {
   "cell_type": "code",
   "execution_count": 3,
   "metadata": {
    "id": "943u3-vw_xjm"
   },
   "outputs": [],
   "source": [
    "categories = ['glioma', 'meningioma', 'notumor', 'pituitary']"
   ]
  },
  {
   "cell_type": "code",
   "execution_count": 4,
   "metadata": {
    "id": "C5k3qvpc-uyU"
   },
   "outputs": [],
   "source": [
    "def process_image(image_path):\n",
    "    img = imread(image_path)\n",
    "    img = resize(img, (128,128,3))\n",
    "    img_array = np.array(img) / 255\n",
    "    img_array = np.expand_dims(img_array, axis=0)\n",
    "    return img_array"
   ]
  },
  {
   "cell_type": "code",
   "execution_count": 5,
   "metadata": {
    "id": "AwhbDeDl-4iD"
   },
   "outputs": [],
   "source": [
    "def predict_tumor(img_array):\n",
    "  y_predict = model.predict(img_array)\n",
    "  return y_predict, np.argmax(y_predict)"
   ]
  },
  {
   "cell_type": "code",
   "execution_count": 6,
   "metadata": {
    "id": "bBmTpwv2AbGP"
   },
   "outputs": [],
   "source": [
    "import math"
   ]
  },
  {
   "cell_type": "code",
   "execution_count": 7,
   "metadata": {
    "id": "V4onCBTEAWXu"
   },
   "outputs": [],
   "source": [
    "def get_confidence(y_predict, y_class):\n",
    "  return math.ceil(y_predict[0][y_class]*100)"
   ]
  },
  {
   "cell_type": "code",
   "execution_count": 8,
   "metadata": {
    "colab": {
     "base_uri": "https://localhost:8080/",
     "height": 360
    },
    "id": "s7fRMCFt_U_Q",
    "outputId": "564c8040-0c99-4a92-990d-79aee69b0cba"
   },
   "outputs": [
    {
     "name": "stderr",
     "output_type": "stream",
     "text": [
      "2024-07-02 21:59:33.128 python[84493:5304855] +[CATransaction synchronize] called within transaction\n",
      "2024-07-02 21:59:33.294 python[84493:5304855] +[CATransaction synchronize] called within transaction\n"
     ]
    },
    {
     "name": "stdout",
     "output_type": "stream",
     "text": [
      "\u001b[1m1/1\u001b[0m \u001b[32m━━━━━━━━━━━━━━━━━━━━\u001b[0m\u001b[37m\u001b[0m \u001b[1m0s\u001b[0m 159ms/step\n"
     ]
    }
   ],
   "source": [
    "class ImageApp:\n",
    "    def __init__(self, root):\n",
    "        self.root = root\n",
    "        self.root.title(\"Image Classification App\")\n",
    "        self.root.geometry(\"500x500\")\n",
    "\n",
    "        self.label = tk.Label(root, text=\"Upload an image to classify\")\n",
    "        self.label.pack(pady=20)\n",
    "\n",
    "        self.upload_button = tk.Button(root, text=\"Upload Image\", command=self.upload_image)\n",
    "        self.upload_button.pack(pady=10)\n",
    "\n",
    "        self.image_label = tk.Label(root)\n",
    "        self.image_label.pack(pady=20)\n",
    "\n",
    "        self.result_label = tk.Label(root, text=\"\", font=(\"Helvetica\", 16))\n",
    "        self.result_label.pack(pady=20)\n",
    "\n",
    "    def upload_image(self):\n",
    "        file_path = filedialog.askopenfilename()\n",
    "        if file_path:\n",
    "            self.display_image(file_path)\n",
    "            img_array = process_image(file_path)\n",
    "            y_predict, y_class = predict_tumor(img_array)\n",
    "            confidence = get_confidence(y_predict, y_class)\n",
    "            self.display_result(categories[y_class], confidence)\n",
    "\n",
    "    def display_image(self, file_path):\n",
    "        img = Image.open(file_path)\n",
    "        img = img.resize((200, 200))\n",
    "        img = ImageTk.PhotoImage(img)\n",
    "        self.image_label.configure(image=img)\n",
    "        self.image_label.image = img\n",
    "\n",
    "    def display_result(self, prediction, confidence):\n",
    "        self.result_label.config(text=f\"Prediction: {prediction} with {confidence}% confidence\")\n",
    "\n",
    "if __name__ == \"__main__\":\n",
    "    root = tk.Tk()\n",
    "    app = ImageApp(root)\n",
    "    root.mainloop()"
   ]
  },
  {
   "cell_type": "code",
   "execution_count": null,
   "metadata": {},
   "outputs": [],
   "source": []
  }
 ],
 "metadata": {
  "colab": {
   "provenance": []
  },
  "kernelspec": {
   "display_name": "Python 3 (ipykernel)",
   "language": "python",
   "name": "python3"
  },
  "language_info": {
   "codemirror_mode": {
    "name": "ipython",
    "version": 3
   },
   "file_extension": ".py",
   "mimetype": "text/x-python",
   "name": "python",
   "nbconvert_exporter": "python",
   "pygments_lexer": "ipython3",
   "version": "3.11.7"
  }
 },
 "nbformat": 4,
 "nbformat_minor": 4
}
